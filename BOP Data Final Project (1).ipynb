{
 "cells": [
  {
   "cell_type": "code",
   "execution_count": null,
   "metadata": {},
   "outputs": [],
   "source": [
    "%matplotlib notebook \n",
    "import numpy as np\n",
    "import pandas as pd\n",
    "import matplotlib as mpl\n",
    "import matplotlib.pyplot as plt\n",
    "import scipy\n",
    "from scipy import stats\n",
    "import seaborn as sns\n",
    "sns.set()"
   ]
  },
  {
   "cell_type": "code",
   "execution_count": null,
   "metadata": {},
   "outputs": [],
   "source": [
    "data2019 = pd.read_csv('C:/Users/kalee/Desktop/bop_data.csv', header=0)"
   ]
  },
  {
   "cell_type": "code",
   "execution_count": null,
   "metadata": {},
   "outputs": [],
   "source": [
    "data2019.head()"
   ]
  },
  {
   "cell_type": "code",
   "execution_count": null,
   "metadata": {},
   "outputs": [],
   "source": [
    "data2019.columns"
   ]
  },
  {
   "cell_type": "code",
   "execution_count": null,
   "metadata": {},
   "outputs": [],
   "source": [
    "data2019 = data2019.drop(columns = ['waterTemperature_results_1','dissolvedOxygen_units','windSpeedMPH','dissolvedOxygen_results_2', 'waterTemperature_results_0','waterTemperature_results_2', 'dissolvedOxygen','waterTemperature','waterTemperature_units','airTemperatureC','pH','waterTemperature_method','windDirection','dissolvedOxygen_results_1','salinity','turbidity','dissolvedOxygen_average'])"
   ]
  },
  {
   "cell_type": "code",
   "execution_count": null,
   "metadata": {},
   "outputs": [],
   "source": [
    "data2019"
   ]
  },
  {
   "cell_type": "code",
   "execution_count": null,
   "metadata": {},
   "outputs": [],
   "source": [
    "data2019.columns"
   ]
  },
  {
   "cell_type": "code",
   "execution_count": null,
   "metadata": {},
   "outputs": [],
   "source": [
    "data2019 = data2019.drop(columns=['dissolvedOxygen_method','waterTemperature_average','salinity_units'])"
   ]
  },
  {
   "cell_type": "code",
   "execution_count": null,
   "metadata": {},
   "outputs": [],
   "source": [
    "data2019"
   ]
  },
  {
   "cell_type": "code",
   "execution_count": null,
   "metadata": {},
   "outputs": [],
   "source": [
    "data2019.dropna()"
   ]
  },
  {
   "cell_type": "code",
   "execution_count": null,
   "metadata": {},
   "outputs": [],
   "source": [
    "size = data2019['sizeOfLiveOysterMM']\n",
    "salinity= data2019['salinity_average']\n",
    "\n",
    "plt.scatter(salinity, size, edgecolor = 'white', color = 'red')\n",
    "\n",
    "plt.xlabel('Salinity (ppt)')\n",
    "plt.ylabel('Size of Oysters (mm)')\n",
    "plt.title('Effect of Salinity on Oyster size')\n",
    "plt.show()"
   ]
  },
  {
   "cell_type": "code",
   "execution_count": null,
   "metadata": {},
   "outputs": [],
   "source": [
    "size = data2019['sizeOfLiveOysterMM']\n",
    "ph= data2019['pH_average']\n",
    "\n",
    "plt.scatter(ph, size, edgecolor = 'white', color = 'green')\n",
    "\n",
    "plt.xlabel('pH')\n",
    "plt.ylabel('Size of Oysters (mm)')\n",
    "plt.title('Effect of pH on Oyster size')\n",
    "plt.show()"
   ]
  },
  {
   "cell_type": "code",
   "execution_count": null,
   "metadata": {},
   "outputs": [],
   "source": [
    "data2019.groupby('salinity_average').size().plot.bar()\n",
    "\n",
    "plt.title('Level of salinity observed in oyster habitats')\n",
    "plt.xlabel('Salinity (ppt)')\n",
    "plt.ylabel('Frequency')"
   ]
  },
  {
   "cell_type": "code",
   "execution_count": null,
   "metadata": {},
   "outputs": [],
   "source": [
    "#data2019['sizeOfLiveOysterMM + pH_average'] = data2019['pH_average'] + np.random.normal(0, 1)\n",
    "#np.corrcoef(data2019['pH_average'], data2019['sizeOfLiveOysterMM'])"
   ]
  },
  {
   "cell_type": "code",
   "execution_count": null,
   "metadata": {},
   "outputs": [],
   "source": [
    "# The p-value near zero indicates the correlation is statistically significant\n",
    "#rho, pstat = scipy.stats.pearsonr(data2019['pH_average'], data2019['sizeOfLiveOysterMM'])\n",
    "#print('p-val = %.4f' % pstat)"
   ]
  },
  {
   "cell_type": "code",
   "execution_count": null,
   "metadata": {},
   "outputs": [],
   "source": [
    "data2019[['pH_average','sizeOfLiveOysterMM']].groupby('pH_average').mean().plot.bar(legend=None,\\\n",
    "                                                                                title=\"Average Oyster size by PH value\")\n",
    "plt.xlabel('pH')\n",
    "plt.ylabel('Size of Oyster (mm)')"
   ]
  },
  {
   "cell_type": "code",
   "execution_count": null,
   "metadata": {},
   "outputs": [],
   "source": []
  }
 ],
 "metadata": {
  "kernelspec": {
   "display_name": "Python 3",
   "language": "python",
   "name": "python3"
  },
  "language_info": {
   "codemirror_mode": {
    "name": "ipython",
    "version": 3
   },
   "file_extension": ".py",
   "mimetype": "text/x-python",
   "name": "python",
   "nbconvert_exporter": "python",
   "pygments_lexer": "ipython3",
   "version": "3.7.1"
  }
 },
 "nbformat": 4,
 "nbformat_minor": 2
}
